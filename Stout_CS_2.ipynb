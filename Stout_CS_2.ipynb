{
 "cells": [
  {
   "cell_type": "code",
   "execution_count": 1,
   "id": "01bd7637",
   "metadata": {},
   "outputs": [],
   "source": [
    "import numpy as np\n",
    "import pandas as pd\n",
    "\n",
    "import matplotlib as plt\n",
    "import seaborn as sns\n",
    "import sqlalchemy as alch\n",
    "\n",
    "from sqlalchemy import text\n",
    "from sqlalchemy.sql import func\n",
    "from sqlalchemy import inspect\n",
    "from sqlalchemy_utils import database_exists, create_database"
   ]
  },
  {
   "cell_type": "markdown",
   "id": "fe09d39b",
   "metadata": {},
   "source": [
    "# Cursory Analysis"
   ]
  },
  {
   "cell_type": "code",
   "execution_count": 2,
   "id": "85a4ebc5",
   "metadata": {},
   "outputs": [],
   "source": [
    "df = pd.read_csv('DATA\\casestudy.csv')"
   ]
  },
  {
   "cell_type": "code",
   "execution_count": null,
   "id": "f3dcc477",
   "metadata": {},
   "outputs": [],
   "source": [
    "print(df.shape)\n",
    "df.head()"
   ]
  },
  {
   "cell_type": "code",
   "execution_count": null,
   "id": "0c25c012",
   "metadata": {},
   "outputs": [],
   "source": [
    "df.describe()"
   ]
  },
  {
   "cell_type": "code",
   "execution_count": null,
   "id": "da98cde7",
   "metadata": {},
   "outputs": [],
   "source": [
    "df.info()"
   ]
  },
  {
   "cell_type": "code",
   "execution_count": null,
   "id": "7fb9e983",
   "metadata": {},
   "outputs": [],
   "source": [
    "df.isna().sum\n",
    "df.dtypes"
   ]
  },
  {
   "cell_type": "code",
   "execution_count": null,
   "id": "f828ec13",
   "metadata": {},
   "outputs": [],
   "source": [
    "#df['Unnamed: 0'].value_counts() # <--- index\n",
    "#df['net_revenue'].value_counts()\n",
    "df['year'].value_counts()"
   ]
  },
  {
   "cell_type": "markdown",
   "id": "d8d6da3d",
   "metadata": {},
   "source": [
    "# SQL Setup"
   ]
  },
  {
   "cell_type": "code",
   "execution_count": 3,
   "id": "dbdcbce0",
   "metadata": {},
   "outputs": [
    {
     "name": "stdout",
     "output_type": "stream",
     "text": [
      "True\n"
     ]
    }
   ],
   "source": [
    "engine = alch.create_engine('sqlite:///db.sqlite')\n",
    "if not database_exists(engine.url):\n",
    "    create_database(engine.url)\n",
    "    \n",
    "print(database_exists(engine.url))"
   ]
  },
  {
   "cell_type": "code",
   "execution_count": 4,
   "id": "f6d21a3a",
   "metadata": {},
   "outputs": [],
   "source": [
    "connection = engine.connect()\n",
    "metadata = alch.MetaData()"
   ]
  },
  {
   "cell_type": "code",
   "execution_count": 5,
   "id": "2bbbb35d",
   "metadata": {},
   "outputs": [],
   "source": [
    "table_name = 'orders'\n",
    "df.to_sql(\n",
    "    table_name,\n",
    "    engine,\n",
    "    if_exists='replace',\n",
    "    index=False,\n",
    ")"
   ]
  },
  {
   "cell_type": "code",
   "execution_count": 6,
   "id": "19e9415b",
   "metadata": {},
   "outputs": [
    {
     "data": {
      "text/plain": [
       "[{'name': 'Unnamed: 0',\n",
       "  'type': BIGINT(),\n",
       "  'nullable': True,\n",
       "  'default': None,\n",
       "  'autoincrement': 'auto',\n",
       "  'primary_key': 0},\n",
       " {'name': 'customer_email',\n",
       "  'type': TEXT(),\n",
       "  'nullable': True,\n",
       "  'default': None,\n",
       "  'autoincrement': 'auto',\n",
       "  'primary_key': 0},\n",
       " {'name': 'net_revenue',\n",
       "  'type': FLOAT(),\n",
       "  'nullable': True,\n",
       "  'default': None,\n",
       "  'autoincrement': 'auto',\n",
       "  'primary_key': 0},\n",
       " {'name': 'year',\n",
       "  'type': BIGINT(),\n",
       "  'nullable': True,\n",
       "  'default': None,\n",
       "  'autoincrement': 'auto',\n",
       "  'primary_key': 0}]"
      ]
     },
     "execution_count": 6,
     "metadata": {},
     "output_type": "execute_result"
    }
   ],
   "source": [
    "inspector = inspect(engine)\n",
    "inspector.get_columns('orders')"
   ]
  },
  {
   "cell_type": "markdown",
   "id": "4f2cbe9d",
   "metadata": {},
   "source": [
    "# Queries"
   ]
  },
  {
   "cell_type": "code",
   "execution_count": null,
   "id": "f1a46bb8",
   "metadata": {},
   "outputs": [],
   "source": [
    "# Verifying dataframe -> database \n",
    "statement='SELECT * FROM orders'\n",
    "with engine.connect() as con:\n",
    "\n",
    "    rs = con.execute(statement)\n",
    "\n",
    "    for row in rs:\n",
    "        print(row)"
   ]
  },
  {
   "cell_type": "code",
   "execution_count": 7,
   "id": "ca1b081c",
   "metadata": {},
   "outputs": [],
   "source": [
    "conn = engine.connect()"
   ]
  },
  {
   "cell_type": "code",
   "execution_count": 8,
   "id": "9c0b5b63",
   "metadata": {},
   "outputs": [
    {
     "name": "stdout",
     "output_type": "stream",
     "text": [
      "[(29036749.18999953,)]\n"
     ]
    }
   ],
   "source": [
    "# question 0,0\n",
    "q0_0 = text(\"SELECT SUM(net_revenue)\"\n",
    "            \" FROM orders\"\n",
    "            \" WHERE year=:x\")\n",
    "\n",
    "a0_0 = conn.execute(q0_0, {\"x\":2015}).fetchall()\n",
    "print(a0_0)"
   ]
  },
  {
   "cell_type": "code",
   "execution_count": 9,
   "id": "9cca2441",
   "metadata": {},
   "outputs": [],
   "source": [
    "# question 0,1\n",
    "# same as q0,0"
   ]
  },
  {
   "cell_type": "code",
   "execution_count": 10,
   "id": "89c2551e",
   "metadata": {},
   "outputs": [],
   "source": [
    "# question 0,2\n",
    "# N/A : first year"
   ]
  },
  {
   "cell_type": "code",
   "execution_count": 11,
   "id": "99e808cc",
   "metadata": {},
   "outputs": [],
   "source": [
    "# question 0,3\n",
    "# N/A : first year"
   ]
  },
  {
   "cell_type": "code",
   "execution_count": 12,
   "id": "f44e1cc3",
   "metadata": {},
   "outputs": [],
   "source": [
    "# question 0,4\n",
    "# same as 0,1"
   ]
  },
  {
   "cell_type": "code",
   "execution_count": 13,
   "id": "d4d22401",
   "metadata": {},
   "outputs": [],
   "source": [
    "# question 0,5\n",
    "# N/A : first year"
   ]
  },
  {
   "cell_type": "code",
   "execution_count": 14,
   "id": "763ad066",
   "metadata": {},
   "outputs": [
    {
     "name": "stdout",
     "output_type": "stream",
     "text": [
      "[(231294,)]\n"
     ]
    }
   ],
   "source": [
    "# question 0,6\n",
    "q0_6 = text(\"SELECT COUNT(*) FROM orders WHERE year=:x\")\n",
    "a0_6 = conn.execute(q0_6, {\"x\":2015}).fetchall()\n",
    "print(a0_6)"
   ]
  },
  {
   "cell_type": "code",
   "execution_count": 15,
   "id": "7b59ba12",
   "metadata": {},
   "outputs": [],
   "source": [
    "# question 0,7\n",
    "# N/A : first year"
   ]
  },
  {
   "cell_type": "code",
   "execution_count": 16,
   "id": "cb0a863d",
   "metadata": {},
   "outputs": [],
   "source": [
    "# question 0,8\n",
    "# same as 0,6"
   ]
  },
  {
   "cell_type": "code",
   "execution_count": 17,
   "id": "01face9b",
   "metadata": {},
   "outputs": [],
   "source": [
    "# question 0,9\n",
    "# N/A : first year"
   ]
  },
  {
   "cell_type": "code",
   "execution_count": 18,
   "id": "ede658ed",
   "metadata": {},
   "outputs": [
    {
     "name": "stdout",
     "output_type": "stream",
     "text": [
      "[(25730943.58999988,)]\n"
     ]
    }
   ],
   "source": [
    "# question 1,0\n",
    "q1_0 = text(\"SELECT SUM(net_revenue)\"\n",
    "            \" FROM orders\"\n",
    "            \" WHERE year=:x\")\n",
    "\n",
    "a1_0 = conn.execute(q1_0, {\"x\":2016}).fetchall()\n",
    "print(a1_0)"
   ]
  },
  {
   "cell_type": "code",
   "execution_count": 19,
   "id": "e333079b",
   "metadata": {},
   "outputs": [
    {
     "name": "stdout",
     "output_type": "stream",
     "text": [
      "[(18245491.010000203,)]\n"
     ]
    }
   ],
   "source": [
    "# question 1,1\n",
    "q1_1 = text(\"SELECT SUM(net_revenue) \"\n",
    "            \"FROM orders \"\n",
    "            \"WHERE year=:x \"\n",
    "            \"AND customer_email NOT IN (SELECT customer_email FROM orders WHERE year=:y)\")\n",
    "\n",
    "a1_1 = conn.execute(q1_1,{\"x\":2016,\"y\":2015}).fetchall()\n",
    "print(a1_1)"
   ]
  },
  {
   "cell_type": "code",
   "execution_count": 20,
   "id": "abd850fe",
   "metadata": {},
   "outputs": [
    {
     "name": "stdout",
     "output_type": "stream",
     "text": [
      "(7485452.5800000075,)\n",
      "(7465117.120000009,)\n",
      "20335.4599999981\n"
     ]
    }
   ],
   "source": [
    "# question 1,2\n",
    "t1 =    (\"SELECT SUM(net_revenue) \"\n",
    "        \"FROM orders \"\n",
    "        \"WHERE year=:x \"\n",
    "        \"AND customer_email IN (SELECT customer_email FROM orders WHERE year=:y)\")\n",
    "\n",
    "t2 =   (\"SELECT SUM(net_revenue) \"\n",
    "        \"FROM orders \"\n",
    "        \"WHERE year=:y \"\n",
    "        \"AND customer_email IN (SELECT customer_email FROM orders WHERE year=:x)\")\n",
    "\n",
    "d1 = conn.execute(t1,{\"x\":2016,\"y\":2015}).fetchall()\n",
    "d2 = conn.execute(t2,{\"x\":2016,\"y\":2015}).fetchall()\n",
    "\n",
    "print(d1[0])\n",
    "print(d2[0])\n",
    "\n",
    "a1_2 = 7485452.5800000075 - 7465117.120000009\n",
    "print(a1_2)"
   ]
  },
  {
   "cell_type": "code",
   "execution_count": 21,
   "id": "3b16b643",
   "metadata": {
    "scrolled": true
   },
   "outputs": [
    {
     "name": "stdout",
     "output_type": "stream",
     "text": [
      "[(29036749.18999953,)]\n",
      "[(25730943.58999988,)]\n",
      "3305805.5999996476\n"
     ]
    }
   ],
   "source": [
    "# question 1,3 : rev(existing customers)\n",
    "q1_3a = \"SELECT SUM(net_revenue) FROM orders WHERE year=:y\"\n",
    "q1_3b = \"SELECT SUM(net_revenue) FROM orders WHERE year=:x\"\n",
    "\n",
    "print(conn.execute(q1_3a,{\"x\":2016,\"y\":2015}).fetchall())\n",
    "print(conn.execute(q1_3b,{\"x\":2016,\"y\":2015}).fetchall())\n",
    "\n",
    "a1_3 = 29036749.18999953 - 25730943.58999988\n",
    "print(a1_3)"
   ]
  },
  {
   "cell_type": "code",
   "execution_count": 22,
   "id": "a84ca0b9",
   "metadata": {},
   "outputs": [
    {
     "name": "stdout",
     "output_type": "stream",
     "text": [
      "[(7485452.5800000075,)]\n"
     ]
    }
   ],
   "source": [
    "# question 1,4\n",
    "q1_4 = \"SELECT SUM(net_revenue) FROM orders WHERE year=:x AND customer_email IN (SELECT customer_email FROM orders WHERE year=:y)\"\n",
    "\n",
    "a1_4 = conn.execute(q1_4,{\"x\":2016,\"y\":2015}).fetchall()\n",
    "print(a1_4)"
   ]
  },
  {
   "cell_type": "code",
   "execution_count": 23,
   "id": "097b8768",
   "metadata": {},
   "outputs": [
    {
     "name": "stdout",
     "output_type": "stream",
     "text": [
      "7465117.120000009\n"
     ]
    }
   ],
   "source": [
    "# question 1,5\n",
    "# same as 1,2b\n",
    "a1_5 = 7465117.120000009\n",
    "print(a1_5)"
   ]
  },
  {
   "cell_type": "code",
   "execution_count": 24,
   "id": "4aeb8967",
   "metadata": {},
   "outputs": [
    {
     "name": "stdout",
     "output_type": "stream",
     "text": [
      "[(204646,)]\n",
      "[(231294,)]\n",
      "435940\n"
     ]
    }
   ],
   "source": [
    "# question 1,6\n",
    "q1_6 = \"SELECT COUNT(*) FROM orders WHERE year=:x\"\n",
    "\n",
    "a1_6a = conn.execute(q1_6,{\"x\":2016,\"y\":2015}).fetchall()\n",
    "print(a1_6a)\n",
    "print(a0_6)\n",
    "a1_6 = 204646+231294\n",
    "print(a1_6)"
   ]
  },
  {
   "cell_type": "code",
   "execution_count": 25,
   "id": "87901fe5",
   "metadata": {},
   "outputs": [
    {
     "name": "stdout",
     "output_type": "stream",
     "text": [
      "[(231294,)]\n"
     ]
    }
   ],
   "source": [
    "# question 1,7\n",
    "# same as 0_6\n",
    "a1_7 = a0_6\n",
    "print(a1_7)"
   ]
  },
  {
   "cell_type": "code",
   "execution_count": 26,
   "id": "dd9a3dec",
   "metadata": {},
   "outputs": [
    {
     "name": "stdout",
     "output_type": "stream",
     "text": [
      "[(204646,)]\n"
     ]
    }
   ],
   "source": [
    "# question 1,8\n",
    "q1_8 = (\"SELECT COUNT(*) FROM orders WHERE year=:x \"\n",
    "       \"AND customer_email NOT IN (SELECT customer_email WHERE year=:y)\")\n",
    "\n",
    "a1_8 = conn.execute(q1_8,{\"x\":2016,\"y\":2015}).fetchall()\n",
    "print(a1_8)"
   ]
  },
  {
   "cell_type": "code",
   "execution_count": 27,
   "id": "3bcd2a08",
   "metadata": {},
   "outputs": [
    {
     "name": "stdout",
     "output_type": "stream",
     "text": [
      "[(231294,)]\n"
     ]
    }
   ],
   "source": [
    "# question 1,9\n",
    "q1_9 = (\"SELECT COUNT(*) FROM orders WHERE year=:x \"\n",
    "        \"AND customer_email NOT IN (SELECT customer_email WHERE year=:y)\")\n",
    "\n",
    "a1_9 = conn.execute(q1_9,{\"x\":2015,\"y\":2016}).fetchall()\n",
    "print(a1_9)"
   ]
  },
  {
   "cell_type": "code",
   "execution_count": 28,
   "id": "04cb9160",
   "metadata": {},
   "outputs": [
    {
     "name": "stdout",
     "output_type": "stream",
     "text": [
      "[(31417495.02999995,)]\n"
     ]
    }
   ],
   "source": [
    "# question 2,0\n",
    "q2_0 = \"SELECT SUM(net_revenue) FROM orders WHERE year=:x\"\n",
    "\n",
    "a2_0 = conn.execute(q2_0,{\"x\":2017}).fetchall()\n",
    "\n",
    "print(a2_0)"
   ]
  },
  {
   "cell_type": "code",
   "execution_count": 29,
   "id": "2d03c5e8",
   "metadata": {},
   "outputs": [
    {
     "name": "stdout",
     "output_type": "stream",
     "text": [
      "[(28776235.04,)]\n"
     ]
    }
   ],
   "source": [
    "# question 2,1\n",
    "q2_1 = (\"SELECT SUM(net_revenue) FROM orders WHERE year=:x \"\n",
    "       \"AND customer_email NOT IN (SELECT customer_email FROM orders WHERE year=:y)\")\n",
    "\n",
    "a2_1 = conn.execute(q2_1,{\"x\":2017,\"y\":2016}).fetchall()\n",
    "\n",
    "print(a2_1)"
   ]
  },
  {
   "cell_type": "code",
   "execution_count": 30,
   "id": "8afce7c6",
   "metadata": {},
   "outputs": [
    {
     "name": "stdout",
     "output_type": "stream",
     "text": [
      "(2641259.990000008,)\n",
      "(2620648.6499999906,)\n",
      "20611.340000017546\n"
     ]
    }
   ],
   "source": [
    "# question 2,2\n",
    "t1 =    (\"SELECT SUM(net_revenue) \"\n",
    "        \"FROM orders \"\n",
    "        \"WHERE year=:x \"\n",
    "        \"AND customer_email IN (SELECT customer_email FROM orders WHERE year=:y)\")\n",
    "\n",
    "t2 =   (\"SELECT SUM(net_revenue) \"\n",
    "        \"FROM orders \"\n",
    "        \"WHERE year=:y \"\n",
    "        \"AND customer_email IN (SELECT customer_email FROM orders WHERE year=:x)\")\n",
    "\n",
    "d1 = conn.execute(t1,{\"x\":2017,\"y\":2016}).fetchall()\n",
    "d2 = conn.execute(t2,{\"x\":2017,\"y\":2016}).fetchall()\n",
    "\n",
    "print(d1[0])\n",
    "print(d2[0])\n",
    "\n",
    "a2_2 = 2641259.990000008 - 2620648.6499999906\n",
    "print(a2_2)"
   ]
  },
  {
   "cell_type": "code",
   "execution_count": 31,
   "id": "9b84fe5a",
   "metadata": {},
   "outputs": [
    {
     "name": "stdout",
     "output_type": "stream",
     "text": [
      "[(25730943.58999988,)]\n",
      "[(31417495.02999995,)]\n",
      "-5686551.440000068\n"
     ]
    }
   ],
   "source": [
    "# question 2,3\n",
    "q2_3a = \"SELECT SUM(net_revenue) FROM orders WHERE year=:y\"\n",
    "q2_3b = \"SELECT SUM(net_revenue) FROM orders WHERE year=:x\"\n",
    "\n",
    "print(conn.execute(q2_3a,{\"x\":2017,\"y\":2016}).fetchall())\n",
    "print(conn.execute(q2_3b,{\"x\":2017,\"y\":2016}).fetchall())\n",
    "\n",
    "a2_3 = 25730943.58999988 - 31417495.02999995\n",
    "print(a2_3)"
   ]
  },
  {
   "cell_type": "code",
   "execution_count": 32,
   "id": "4de7766e",
   "metadata": {},
   "outputs": [
    {
     "name": "stdout",
     "output_type": "stream",
     "text": [
      "[(2641259.990000008,)]\n"
     ]
    }
   ],
   "source": [
    "# question 2,4\n",
    "q2_4 = \"SELECT SUM(net_revenue) FROM orders WHERE year=:x AND customer_email IN (SELECT customer_email FROM orders WHERE year=:y)\"\n",
    "\n",
    "a2_4 = conn.execute(q2_4,{\"x\":2017,\"y\":2016}).fetchall()\n",
    "print(a2_4)"
   ]
  },
  {
   "cell_type": "code",
   "execution_count": 33,
   "id": "c592e845",
   "metadata": {},
   "outputs": [
    {
     "name": "stdout",
     "output_type": "stream",
     "text": [
      "[(2620648.6499999906,)]\n"
     ]
    }
   ],
   "source": [
    "# question 2,5\n",
    "q2_5 = \"SELECT SUM(net_revenue) FROM orders WHERE year=:x AND customer_email IN (SELECT customer_email FROM orders WHERE year=:y)\"\n",
    "\n",
    "a2_5 = conn.execute(q2_5,{\"x\":2016,\"y\":2017}).fetchall()\n",
    "print(a2_5)"
   ]
  },
  {
   "cell_type": "code",
   "execution_count": 34,
   "id": "b755f270",
   "metadata": {},
   "outputs": [
    {
     "name": "stdout",
     "output_type": "stream",
     "text": [
      "[(204646,)]\n",
      "435940\n",
      "640586\n"
     ]
    }
   ],
   "source": [
    "# question 2,6 : interpreted the question as total customers in current year cumulative with past years\n",
    "q2_6 = \"SELECT COUNT(*) FROM orders WHERE year=:x\"\n",
    "\n",
    "a2_6a = conn.execute(q2_6,{\"x\":2016,\"y\":2015}).fetchall()\n",
    "\n",
    "print(a2_6a)\n",
    "print(a1_6)\n",
    "\n",
    "a2_6 = 204646 + 435940\n",
    "print(a2_6)"
   ]
  },
  {
   "cell_type": "code",
   "execution_count": 35,
   "id": "95aeafac",
   "metadata": {},
   "outputs": [],
   "source": [
    "# question 2,7\n",
    "# same as 1,6"
   ]
  },
  {
   "cell_type": "code",
   "execution_count": 36,
   "id": "87b8d6aa",
   "metadata": {},
   "outputs": [
    {
     "name": "stdout",
     "output_type": "stream",
     "text": [
      "[(249987,)]\n"
     ]
    }
   ],
   "source": [
    "# question 2,8\n",
    "q2_8 = (\"SELECT COUNT(*) FROM orders WHERE year=:x \"\n",
    "       \"AND customer_email NOT IN (SELECT customer_email WHERE year=:y)\")\n",
    "\n",
    "a2_8 = conn.execute(q1_8,{\"x\":2017,\"y\":2016}).fetchall()\n",
    "print(a2_8)"
   ]
  },
  {
   "cell_type": "code",
   "execution_count": 37,
   "id": "ecc8ece8",
   "metadata": {},
   "outputs": [
    {
     "name": "stdout",
     "output_type": "stream",
     "text": [
      "[(204646,)]\n"
     ]
    }
   ],
   "source": [
    "# question 2,9 \n",
    "q2_9 = (\"SELECT COUNT(*) FROM orders WHERE year=:x \"\n",
    "        \"AND customer_email NOT IN (SELECT customer_email WHERE year=:y)\")\n",
    "\n",
    "a2_9 = conn.execute(q1_9,{\"x\":2016,\"y\":2017}).fetchall()\n",
    "print(a2_9)"
   ]
  }
 ],
 "metadata": {
  "kernelspec": {
   "display_name": "Python 3",
   "language": "python",
   "name": "python3"
  },
  "language_info": {
   "codemirror_mode": {
    "name": "ipython",
    "version": 3
   },
   "file_extension": ".py",
   "mimetype": "text/x-python",
   "name": "python",
   "nbconvert_exporter": "python",
   "pygments_lexer": "ipython3",
   "version": "3.7.11"
  }
 },
 "nbformat": 4,
 "nbformat_minor": 5
}
